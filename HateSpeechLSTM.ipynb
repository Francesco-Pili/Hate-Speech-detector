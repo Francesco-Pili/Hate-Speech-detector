{
 "cells": [
  {
   "cell_type": "code",
   "execution_count": 1,
   "metadata": {},
   "outputs": [
    {
     "name": "stderr",
     "output_type": "stream",
     "text": [
      "Using TensorFlow backend.\n"
     ]
    }
   ],
   "source": [
    "##aim of this code is to develop a simple LSTM neural network that can identify hate speech\n",
    "\n",
    "##relevant imports\n",
    "import tensorflow as tf\n",
    "from tensorflow import keras\n",
    "import numpy as np\n",
    "import sklearn\n",
    "from sklearn.model_selection import train_test_split\n",
    "from keras import Sequential\n",
    "from keras.layers import LSTM, Dense"
   ]
  },
  {
   "cell_type": "code",
   "execution_count": 2,
   "metadata": {},
   "outputs": [],
   "source": [
    "from keras.preprocessing.sequence import pad_sequences"
   ]
  },
  {
   "cell_type": "code",
   "execution_count": 3,
   "metadata": {},
   "outputs": [],
   "source": [
    "from keras.callbacks import LearningRateScheduler"
   ]
  },
  {
   "cell_type": "code",
   "execution_count": 4,
   "metadata": {},
   "outputs": [],
   "source": [
    "from keras.optimizers import Adam"
   ]
  },
  {
   "cell_type": "code",
   "execution_count": 5,
   "metadata": {},
   "outputs": [],
   "source": [
    "from IPython.display import clear_output"
   ]
  },
  {
   "cell_type": "code",
   "execution_count": null,
   "metadata": {},
   "outputs": [],
   "source": [
    "import spacy\n",
    "nlp = spacy.load(\"en_core_web_md\")"
   ]
  },
  {
   "cell_type": "code",
   "execution_count": null,
   "metadata": {},
   "outputs": [],
   "source": [
    "import pandas as pd"
   ]
  },
  {
   "cell_type": "code",
   "execution_count": null,
   "metadata": {},
   "outputs": [],
   "source": [
    "df=pd.read_csv(\"labeled_data.csv\")"
   ]
  },
  {
   "cell_type": "code",
   "execution_count": null,
   "metadata": {},
   "outputs": [],
   "source": [
    "#create a list of sentences where each word is represented by a spacy word vector\n",
    "x =[]\n",
    "c=0\n",
    "m= len(df[\"tweet\"])\n",
    "for t in df[\"tweet\"]:\n",
    "    x.append(np.asarray([t.vector for t in nlp(t)]))\n",
    "    c+=1\n",
    "    print(\"%.4f\" % (c/m * 100), \"%\")\n",
    "    clear_output(wait=True)"
   ]
  },
  {
   "cell_type": "code",
   "execution_count": 5,
   "metadata": {},
   "outputs": [],
   "source": [
    "wordcount = 40"
   ]
  },
  {
   "cell_type": "code",
   "execution_count": null,
   "metadata": {},
   "outputs": [],
   "source": [
    "#pads and trunactes the sentences the sentence vectors\n",
    "# 40 is somewhat aribtrary\n",
    "for i, s in enumerate(x):\n",
    "    x[i] = pad_sequences([x[i]],maxlen=wordcount, padding = \"pre\",dtype='float32', truncating = \"post\")[0]"
   ]
  },
  {
   "cell_type": "code",
   "execution_count": null,
   "metadata": {},
   "outputs": [],
   "source": [
    "x = np.asarray(x)"
   ]
  },
  {
   "cell_type": "code",
   "execution_count": null,
   "metadata": {},
   "outputs": [],
   "source": [
    "#The output data is based on the \"hate_speech\" column of the dataset.\n",
    "y= list(df[\"hate_speech\"])"
   ]
  },
  {
   "cell_type": "code",
   "execution_count": null,
   "metadata": {},
   "outputs": [],
   "source": [
    "#In the original dataset, however, this \"hate_speech\" column is not binary:\n",
    "set(df[\"hate_speech\"])\n",
    "#As explained in the source of the dataset, the value of this column is based on how many CrowdFlower users deemed it to be hate speech"
   ]
  },
  {
   "cell_type": "code",
   "execution_count": null,
   "metadata": {},
   "outputs": [],
   "source": [
    "#it will be assumed for the purposes of this project that texts that at least one CF user identified as hate speech are indeed hate speech\n",
    "#as this is a binary cross entropy task, two categories are  created\n",
    "for i, v in enumerate(y):\n",
    "    #not hate speech\n",
    "    if v == 0:\n",
    "        y[i] = np.asarray([1,0])\n",
    "    #hate speech\n",
    "    elif v>0:\n",
    "        y[i] = np.asarray([0,1])"
   ]
  },
  {
   "cell_type": "code",
   "execution_count": null,
   "metadata": {},
   "outputs": [],
   "source": [
    "#converts y from a list into a numpy array\n",
    "y = np.asarray(y)"
   ]
  },
  {
   "cell_type": "code",
   "execution_count": null,
   "metadata": {},
   "outputs": [],
   "source": [
    "#splits the data into traning and testing data\n",
    "X_train, X_test, y_train, y_test = train_test_split(x,y, test_size=0.33, random_state = 42)"
   ]
  },
  {
   "cell_type": "code",
   "execution_count": null,
   "metadata": {},
   "outputs": [],
   "source": [
    "#saves the vectorised sentences\n",
    "np.save(\"HateSpeechTestingData.npy\", X_test)"
   ]
  },
  {
   "cell_type": "code",
   "execution_count": 6,
   "metadata": {},
   "outputs": [],
   "source": [
    "#for loading the training data for a new session\n",
    "X_train = np.load(\"HateSpeechTrainingData.npy\")"
   ]
  },
  {
   "cell_type": "code",
   "execution_count": 7,
   "metadata": {},
   "outputs": [],
   "source": [
    "y_train = np.load(\"HatespeechYtrain.npy\")"
   ]
  },
  {
   "cell_type": "code",
   "execution_count": 16,
   "metadata": {},
   "outputs": [],
   "source": [
    "#decreases the learning rate exponentially after 10 epochs\n",
    "def scheduler(epoch):\n",
    "    if epoch < 10:\n",
    "        print(0.00016529890126548707)\n",
    "        return 0.00016529890126548707\n",
    "    else:\n",
    "        lrnrt=  float(0.001 * tf.math.exp(0.1 * (10 - (epoch+ 29))))\n",
    "        print(lrnrt)\n",
    "        return lrnrt"
   ]
  },
  {
   "cell_type": "code",
   "execution_count": 17,
   "metadata": {},
   "outputs": [],
   "source": [
    "learnr = LearningRateScheduler(scheduler)"
   ]
  },
  {
   "cell_type": "code",
   "execution_count": 18,
   "metadata": {},
   "outputs": [],
   "source": [
    "#the model\n",
    "model = Sequential()\n",
    "model.add(LSTM(256, input_shape = (wordcount, 300)))\n",
    "model.add(Dense(300, activation = 'relu'))\n",
    "model.add(Dense(100, activation = 'relu'))\n",
    "model.add(Dense(2, activation = 'softmax'))"
   ]
  },
  {
   "cell_type": "code",
   "execution_count": 19,
   "metadata": {},
   "outputs": [],
   "source": [
    "optimizer = Adam(lr=0.00016529890126548707)\n",
    "model.compile(loss = 'binary_crossentropy', optimizer=optimizer)"
   ]
  },
  {
   "cell_type": "code",
   "execution_count": 21,
   "metadata": {},
   "outputs": [
    {
     "name": "stdout",
     "output_type": "stream",
     "text": [
      "Epoch 1/50\n",
      "0.00016529890126548707\n",
      "16604/16604 [==============================] - 88s 5ms/step - loss: 0.0044\n",
      "Epoch 2/50\n",
      "0.00016529890126548707\n",
      "16604/16604 [==============================] - 89s 5ms/step - loss: 0.0051\n",
      "Epoch 3/50\n",
      "0.00016529890126548707\n",
      "16604/16604 [==============================] - 94s 6ms/step - loss: 0.0043\n",
      "Epoch 4/50\n",
      "0.00016529890126548707\n",
      "16604/16604 [==============================] - 95s 6ms/step - loss: 0.0039\n",
      "Epoch 5/50\n",
      "0.00016529890126548707\n",
      "16604/16604 [==============================] - 95s 6ms/step - loss: 0.0033\n",
      "Epoch 6/50\n",
      "0.00016529890126548707\n",
      "16604/16604 [==============================] - 94s 6ms/step - loss: 0.0033\n",
      "Epoch 7/50\n",
      "0.00016529890126548707\n",
      "16604/16604 [==============================] - 93s 6ms/step - loss: 0.0034\n",
      "Epoch 8/50\n",
      "0.00016529890126548707\n",
      "16604/16604 [==============================] - 93s 6ms/step - loss: 0.0033\n",
      "Epoch 9/50\n",
      "0.00016529890126548707\n",
      "16604/16604 [==============================] - 93s 6ms/step - loss: 0.0037\n",
      "Epoch 10/50\n",
      "0.00016529890126548707\n",
      "16604/16604 [==============================] - 93s 6ms/step - loss: 0.0033\n",
      "Epoch 11/50\n",
      "5.50232180103194e-05\n",
      "16604/16604 [==============================] - 93s 6ms/step - loss: 0.0031\n",
      "Epoch 12/50\n",
      "4.978706783731468e-05\n",
      "16604/16604 [==============================] - 93s 6ms/step - loss: 0.0030\n",
      "Epoch 13/50\n",
      "4.504920798353851e-05\n",
      "16604/16604 [==============================] - 92s 6ms/step - loss: 0.0030\n",
      "Epoch 14/50\n",
      "4.076220284332521e-05\n",
      "16604/16604 [==============================] - 94s 6ms/step - loss: 0.0030\n",
      "Epoch 15/50\n",
      "3.6883167922496796e-05\n",
      "16604/16604 [==============================] - 94s 6ms/step - loss: 0.0030\n",
      "Epoch 16/50\n",
      "3.3373267797287554e-05\n",
      "16604/16604 [==============================] - 93s 6ms/step - loss: 0.0029\n",
      "Epoch 17/50\n",
      "3.019738505827263e-05\n",
      "16604/16604 [==============================] - 94s 6ms/step - loss: 0.0029\n",
      "Epoch 18/50\n",
      "2.7323725589667447e-05\n",
      "16604/16604 [==============================] - 92s 6ms/step - loss: 0.0029\n",
      "Epoch 19/50\n",
      "2.4723527531023137e-05\n",
      "16604/16604 [==============================] - 92s 6ms/step - loss: 0.0029\n",
      "Epoch 20/50\n",
      "2.2370773876900785e-05\n",
      "16604/16604 [==============================] - 93s 6ms/step - loss: 0.0029\n",
      "Epoch 21/50\n",
      "2.0241910533513874e-05\n",
      "16604/16604 [==============================] - 92s 6ms/step - loss: 0.0029\n",
      "Epoch 22/50\n",
      "1.831564077292569e-05\n",
      "16604/16604 [==============================] - 93s 6ms/step - loss: 0.0029\n",
      "Epoch 23/50\n",
      "1.6572677850490436e-05\n",
      "16604/16604 [==============================] - 94s 6ms/step - loss: 0.0029\n",
      "Epoch 24/50\n",
      "1.4995580386312213e-05\n",
      "16604/16604 [==============================] - 94s 6ms/step - loss: 0.0029\n",
      "Epoch 25/50\n",
      "1.3568557733378839e-05\n",
      "16604/16604 [==============================] - 93s 6ms/step - loss: 0.0029\n",
      "Epoch 26/50\n",
      "1.2277339010324795e-05\n",
      "16604/16604 [==============================] - 94s 6ms/step - loss: 0.0028\n",
      "Epoch 27/50\n",
      "1.110899665945908e-05\n",
      "16604/16604 [==============================] - 93s 6ms/step - loss: 0.0028\n",
      "Epoch 28/50\n",
      "1.00518363979063e-05\n",
      "16604/16604 [==============================] - 92s 6ms/step - loss: 0.0028\n",
      "Epoch 29/50\n",
      "9.09527898329543e-06\n",
      "16604/16604 [==============================] - 92s 6ms/step - loss: 0.0028\n",
      "Epoch 30/50\n",
      "8.229745617427398e-06\n",
      "16604/16604 [==============================] - 95s 6ms/step - loss: 0.0028\n",
      "Epoch 31/50\n",
      "7.446582912962185e-06\n",
      "16604/16604 [==============================] - 93s 6ms/step - loss: 0.0028\n",
      "Epoch 32/50\n",
      "6.737947387591703e-06\n",
      "16604/16604 [==============================] - 92s 6ms/step - loss: 0.0028\n",
      "Epoch 33/50\n",
      "6.096747711126227e-06\n",
      "16604/16604 [==============================] - 94s 6ms/step - loss: 0.0028\n",
      "Epoch 34/50\n",
      "5.516565579455346e-06\n",
      "16604/16604 [==============================] - 94s 6ms/step - loss: 0.0028\n",
      "Epoch 35/50\n",
      "4.991592959413538e-06\n",
      "16604/16604 [==============================] - 93s 6ms/step - loss: 0.0028\n",
      "Epoch 36/50\n",
      "4.51658070232952e-06\n",
      "16604/16604 [==============================] - 93s 6ms/step - loss: 0.0028\n",
      "Epoch 37/50\n",
      "4.08677169616567e-06\n",
      "16604/16604 [==============================] - 93s 6ms/step - loss: 0.0028\n",
      "Epoch 38/50\n",
      "3.697864258356276e-06\n",
      "16604/16604 [==============================] - 94s 6ms/step - loss: 0.0028\n",
      "Epoch 39/50\n",
      "3.3459662063251017e-06\n",
      "16604/16604 [==============================] - 93s 6ms/step - loss: 0.0028\n",
      "Epoch 40/50\n",
      "3.027554384971154e-06\n",
      "16604/16604 [==============================] - 93s 6ms/step - loss: 0.0028\n",
      "Epoch 41/50\n",
      "2.7394446533435257e-06\n",
      "16604/16604 [==============================] - 92s 6ms/step - loss: 0.0028\n",
      "Epoch 42/50\n",
      "2.4787523216218688e-06\n",
      "16604/16604 [==============================] - 93s 6ms/step - loss: 0.0028\n",
      "Epoch 43/50\n",
      "2.2428680495067965e-06\n",
      "16604/16604 [==============================] - 95s 6ms/step - loss: 0.0028\n",
      "Epoch 44/50\n",
      "2.0294312434998574e-06\n",
      "16604/16604 [==============================] - 94s 6ms/step - loss: 0.0028\n",
      "Epoch 45/50\n",
      "1.8363044773650472e-06\n",
      "16604/16604 [==============================] - 94s 6ms/step - loss: 0.0028\n",
      "Epoch 46/50\n",
      "1.6615572349110153e-06\n",
      "16604/16604 [==============================] - 94s 6ms/step - loss: 0.0028\n",
      "Epoch 47/50\n",
      "1.5034391935841995e-06\n",
      "16604/16604 [==============================] - 94s 6ms/step - loss: 0.0028\n",
      "Epoch 48/50\n",
      "1.360368287350866e-06\n",
      "16604/16604 [==============================] - 92s 6ms/step - loss: 0.0028\n",
      "Epoch 49/50\n",
      "1.23091217574256e-06\n",
      "16604/16604 [==============================] - 93s 6ms/step - loss: 0.0028\n",
      "Epoch 50/50\n",
      "1.1137750561829307e-06\n",
      "16604/16604 [==============================] - 93s 6ms/step - loss: 0.0028\n"
     ]
    },
    {
     "data": {
      "text/plain": [
       "<keras.callbacks.callbacks.History at 0x1c9e588ffd0>"
      ]
     },
     "execution_count": 21,
     "metadata": {},
     "output_type": "execute_result"
    }
   ],
   "source": [
    "model.fit(X_train, y_train, batch_size = 50, epochs = 50, callbacks =[learnr])"
   ]
  },
  {
   "cell_type": "code",
   "execution_count": null,
   "metadata": {},
   "outputs": [],
   "source": [
    "#ended on epoch 29\n",
    "#lr = 0.00016529890126548707"
   ]
  },
  {
   "cell_type": "code",
   "execution_count": 24,
   "metadata": {},
   "outputs": [],
   "source": [
    "X_test = np.load(\"HateSpeechTestingData.npy\")"
   ]
  },
  {
   "cell_type": "code",
   "execution_count": 26,
   "metadata": {},
   "outputs": [],
   "source": [
    "#generates predictions for the model\n",
    "preds = model.predict(X_test)"
   ]
  },
  {
   "cell_type": "code",
   "execution_count": 27,
   "metadata": {},
   "outputs": [],
   "source": [
    "from sklearn.metrics import classification_report"
   ]
  },
  {
   "cell_type": "code",
   "execution_count": 28,
   "metadata": {},
   "outputs": [],
   "source": [
    "#converts the prediction of the model into a string\n",
    "def choice(arr):\n",
    "    if arr[0] > arr[1]:\n",
    "        return \"not hate\"\n",
    "    else:\n",
    "        return \"hate\""
   ]
  },
  {
   "cell_type": "code",
   "execution_count": 29,
   "metadata": {},
   "outputs": [],
   "source": [
    "predictions = [choice(x) for x in preds]\n",
    "actualresults = [choice(x) for x in y_test]"
   ]
  },
  {
   "cell_type": "code",
   "execution_count": 25,
   "metadata": {},
   "outputs": [],
   "source": [
    "y_test= np.load(\"HatespeechYtest.npy\")"
   ]
  },
  {
   "cell_type": "code",
   "execution_count": 30,
   "metadata": {},
   "outputs": [
    {
     "name": "stdout",
     "output_type": "stream",
     "text": [
      "              precision    recall  f1-score   support\n",
      "\n",
      "        hate       0.41      0.49      0.44      1375\n",
      "    not hate       0.89      0.86      0.87      6804\n",
      "\n",
      "    accuracy                           0.79      8179\n",
      "   macro avg       0.65      0.67      0.66      8179\n",
      "weighted avg       0.81      0.79      0.80      8179\n",
      "\n"
     ]
    }
   ],
   "source": [
    "#prints out a classification report for the model\n",
    "print(classification_report(predictions, actualresults))"
   ]
  },
  {
   "cell_type": "code",
   "execution_count": null,
   "metadata": {},
   "outputs": [],
   "source": [
    "#saves the model weights\n",
    "model.save_weights(\"HateSpeechLSTMweights06032.ckpt\")"
   ]
  },
  {
   "cell_type": "code",
   "execution_count": 20,
   "metadata": {},
   "outputs": [],
   "source": [
    "#loads the model weights\n",
    "model.load_weights(\"HateSpeechLSTMweights0603.ckpt\")"
   ]
  }
 ],
 "metadata": {
  "kernelspec": {
   "display_name": "Python 3",
   "language": "python",
   "name": "python3"
  },
  "language_info": {
   "codemirror_mode": {
    "name": "ipython",
    "version": 3
   },
   "file_extension": ".py",
   "mimetype": "text/x-python",
   "name": "python",
   "nbconvert_exporter": "python",
   "pygments_lexer": "ipython3",
   "version": "3.6.7"
  }
 },
 "nbformat": 4,
 "nbformat_minor": 4
}
